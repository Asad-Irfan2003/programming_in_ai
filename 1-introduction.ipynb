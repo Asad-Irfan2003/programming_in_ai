{
 "cells": [
  {
   "cell_type": "markdown",
   "metadata": {},
   "source": [
    "# Introduction to Python\n",
    "- Python is a high level programming language\n",
    "- It is an interpreted language\n",
    "- It is a loosely type language (Data type is declared at runtime instead of compile time)\n",
    "- It relies on indentation as control structure\n",
    "\n",
    "### __Writing first python program__"
   ]
  },
  {
   "cell_type": "code",
   "execution_count": 33,
   "metadata": {},
   "outputs": [
    {
     "name": "stdout",
     "output_type": "stream",
     "text": [
      "Hello World\n"
     ]
    }
   ],
   "source": [
    "#My first python program\n",
    "print(\"Hello World\")"
   ]
  },
  {
   "cell_type": "markdown",
   "metadata": {},
   "source": [
    "### __Taking Input in Python__\n",
    "- There are two functions to take input in python\n",
    "\n",
    "    1. input(prompt)\n",
    "    2. raw_input(prompt) (No longer used)\n",
    "- __input()__ : \n",
    "    * It takes input from user and converts it into string\n",
    "    * The object returned by it will always be string\n",
    "    * When input function is called, the program waits for user input and once user presses enter, the program resumes and return what the user types\n",
    "    * __Syntax:__ [var_name]=input('[statement]')"
   ]
  },
  {
   "cell_type": "code",
   "execution_count": 34,
   "metadata": {},
   "outputs": [
    {
     "name": "stdout",
     "output_type": "stream",
     "text": [
      "Asad\n"
     ]
    }
   ],
   "source": [
    "#Example 1 of taking input\n",
    "name=input(\"Enter your name\")\n",
    "print(name)"
   ]
  },
  {
   "cell_type": "markdown",
   "metadata": {},
   "source": [
    "__NOTE__:\n",
    "- Input function converts user input to string so we need to convert our input explicitly using typecasting\n",
    "- If you enter an integer value, input() will return it as string so we will have to convert explicitly to integer using typecasting"
   ]
  },
  {
   "cell_type": "code",
   "execution_count": 35,
   "metadata": {},
   "outputs": [
    {
     "name": "stdout",
     "output_type": "stream",
     "text": [
      "Data type of name:  <class 'str'>\n",
      "Data type of num:  <class 'str'>\n"
     ]
    }
   ],
   "source": [
    "# type() function returns data type of variable\n",
    "name=input(\"Enter name\")\n",
    "num=input(\"Enter number\")\n",
    "\n",
    "print(\"Data type of name: \", type(name))\n",
    "print(\"Data type of num: \", type(num))"
   ]
  },
  {
   "cell_type": "markdown",
   "metadata": {},
   "source": [
    "### __Type Casting in Python__\n",
    "- It is a method to convert a python variable data type into another data type\n",
    "- It is used so the desired operation of user can be performed\n",
    "- It is of two types:\n",
    "    1. Implicit Type Conversion\n",
    "    2. Explicit Type Conversion\n",
    "- __Implicit Type Conversion__\n",
    "    * Python converts data type into another data type automatically\n",
    "    * Users do not have to involve in this process\n",
    "    * __Example__:"
   ]
  },
  {
   "cell_type": "code",
   "execution_count": 36,
   "metadata": {},
   "outputs": [
    {
     "name": "stdout",
     "output_type": "stream",
     "text": [
      "Data type of a:  <class 'int'>\n",
      "Data type of b:  <class 'float'>\n",
      "10.0\n",
      "Data type of c:  <class 'float'>\n",
      "21.0\n",
      "Data type of d:  <class 'float'>\n"
     ]
    }
   ],
   "source": [
    "#Python automatically converts a to int\n",
    "a=7\n",
    "print(\"Data type of a: \",type(a))\n",
    "\n",
    "#Python automatically converts b to float\n",
    "b=3.0\n",
    "print(\"Data type of b: \",type(b))\n",
    "\n",
    "#python automatically converts c to float as\n",
    "#it is float addition\n",
    "c=a+b\n",
    "print(c)\n",
    "print(\"Data type of c: \",type(c))\n",
    "\n",
    "#python automaticallty converts d to float as it is float multiplication\n",
    "d=a*b\n",
    "print(d)\n",
    "print(\"Data type of d: \",type(d))\n"
   ]
  },
  {
   "cell_type": "markdown",
   "metadata": {},
   "source": [
    "- __Explicit Type Conversion__:\n",
    "    * User is involved when converting variable data tyoe into required data type\n",
    "    * It can be done by following functions:\n",
    "        1. __int()__: takes float or string as argument and return int type object\n",
    "        2. __float()__: takes int or string as argument and return float type object\n",
    "        3. __str()__: takes float or int as argument and returns string type object\n",
    "    * __Example:__"
   ]
  },
  {
   "cell_type": "code",
   "execution_count": 37,
   "metadata": {},
   "outputs": [
    {
     "name": "stdout",
     "output_type": "stream",
     "text": [
      "5.0\n",
      "Data type of n:  <class 'float'>\n"
     ]
    }
   ],
   "source": [
    "#Converting int to float\n",
    "a=5\n",
    "n=float(a) #typecasting int to float\n",
    "print(n)\n",
    "print(\"Data type of n: \",type(n))\n"
   ]
  },
  {
   "cell_type": "code",
   "execution_count": 38,
   "metadata": {},
   "outputs": [
    {
     "name": "stdout",
     "output_type": "stream",
     "text": [
      "5\n",
      "Data type of n:  <class 'int'>\n"
     ]
    }
   ],
   "source": [
    "#Converting float to int\n",
    "a=5.9\n",
    "n=int(a) #typecasting int into float\n",
    "print(n)\n",
    "print(\"Data type of n: \",type(n))"
   ]
  },
  {
   "cell_type": "code",
   "execution_count": 39,
   "metadata": {},
   "outputs": [
    {
     "name": "stdout",
     "output_type": "stream",
     "text": [
      "5\n",
      "Data type of n:  <class 'str'>\n"
     ]
    }
   ],
   "source": [
    "#Converting int to string\n",
    "a=5\n",
    "n=str(a) # typecasting int into string\n",
    "print(n)\n",
    "print(\"Data type of n: \",type(n))\n"
   ]
  },
  {
   "cell_type": "code",
   "execution_count": 1,
   "metadata": {},
   "outputs": [
    {
     "name": "stdout",
     "output_type": "stream",
     "text": [
      "5.9\n",
      "Data type of n:  <class 'float'>\n"
     ]
    }
   ],
   "source": [
    "#Converting string to float\n",
    "a=\"5.9\"\n",
    "n=float(a) #typecasting string to float\n",
    "print(n)\n",
    "print(\"Data type of n: \",type(n))"
   ]
  },
  {
   "cell_type": "code",
   "execution_count": 41,
   "metadata": {},
   "outputs": [
    {
     "name": "stdout",
     "output_type": "stream",
     "text": [
      "5\n",
      "Data type of n:  <class 'int'>\n"
     ]
    }
   ],
   "source": [
    "#Converting string to int\n",
    "#NOTE: string should be a number otherwise conversion will give error\n",
    "a=\"5\"\n",
    "b=\"t\"\n",
    "n=int(a)\n",
    "\n",
    "print(n)\n",
    "print(\"Data type of n: \",type(n))\n",
    "\n",
    "#print(int(b)) -> this will give error\n"
   ]
  },
  {
   "cell_type": "markdown",
   "metadata": {},
   "source": [
    "### __Python Variables__\n",
    "- A variable is a container that stores values\n",
    "- A variable is a name given to memory location\n",
    "- It is the basic unit of storage in a program\n",
    "- Python is not __statically__ __typed__ so we do not need to declare variable or their type before using them\n",
    "- A variable is created the moment we assign a value to it\n",
    "\n",
    "- __Naming Rules for Python Variables__:\n",
    "    * A variable must start with a letter or underscore\n",
    "    * A variable cannot start with a number\n",
    "    * A variable can only container alpha-numeric characters and underscores (A-z 0-9 and _)\n",
    "    * A variable name is case-sensitive(NAME and name and Name are all different variables)\n",
    "    * Reversed words(such as while, else, if) cannot be used as variable name in python\n",
    "- __Example:__ "
   ]
  },
  {
   "cell_type": "code",
   "execution_count": 42,
   "metadata": {},
   "outputs": [
    {
     "name": "stdout",
     "output_type": "stream",
     "text": [
      "1 2 3\n",
      "4 5 6\n"
     ]
    }
   ],
   "source": [
    "#Valid variable name\n",
    "asad=1\n",
    "Asad=2\n",
    "As_ad=3\n",
    "_Asad=4\n",
    "Asad_=5\n",
    "_Asad_=6\n",
    "print(asad, Asad, As_ad)\n",
    "print(_Asad,Asad_,_Asad_)"
   ]
  },
  {
   "cell_type": "markdown",
   "metadata": {},
   "source": [
    "- __Declaring a variable__\n",
    "    * __NOTE__: Once a variable is declared, it can also be redeclared"
   ]
  },
  {
   "cell_type": "code",
   "execution_count": 43,
   "metadata": {},
   "outputs": [
    {
     "name": "stdout",
     "output_type": "stream",
     "text": [
      "45\n",
      "1456.8\n",
      "John\n"
     ]
    }
   ],
   "source": [
    "#Integer assignment\n",
    "age= 45\n",
    "#floating point assignment\n",
    "salary = 1456.8\n",
    "\n",
    "#String assignment \n",
    "name=\"John\"\n",
    "print(age)\n",
    "print(salary)\n",
    "print(name)\n",
    "\n",
    "\n",
    "\n"
   ]
  },
  {
   "cell_type": "code",
   "execution_count": 44,
   "metadata": {},
   "outputs": [
    {
     "name": "stdout",
     "output_type": "stream",
     "text": [
      "45\n",
      "45.5\n"
     ]
    }
   ],
   "source": [
    "#Redclaring Variables\n",
    "age=45\n",
    "print(age)\n",
    "\n",
    "age=45.5\n",
    "print(age)"
   ]
  },
  {
   "cell_type": "code",
   "execution_count": 45,
   "metadata": {},
   "outputs": [
    {
     "name": "stdout",
     "output_type": "stream",
     "text": [
      "10\n",
      "10\n",
      "10\n"
     ]
    }
   ],
   "source": [
    "#Assigning values to multiple variables using = operator\n",
    "a=b=c=10\n",
    "print(a)\n",
    "print(b)\n",
    "print(c)"
   ]
  },
  {
   "cell_type": "code",
   "execution_count": 46,
   "metadata": {},
   "outputs": [
    {
     "name": "stdout",
     "output_type": "stream",
     "text": [
      "1\n",
      "20.2\n",
      "Asad\n"
     ]
    }
   ],
   "source": [
    "#Python allows adding different values to multiple variables in\n",
    "#single line using , operators\n",
    "a, b, c = 1, 20.2, \"Asad\"\n",
    "\n",
    "print(a)\n",
    "print(b)\n",
    "print(c)\n"
   ]
  },
  {
   "cell_type": "markdown",
   "metadata": {},
   "source": [
    "- __Global and Local Python Variables__\n",
    "    * local variables are variables defined inside a function\n",
    "        * these variables cannot be called outside a function\n",
    "    * Global variables are ones defined and declared outside a function\n",
    "        * they can be used inside the function"
   ]
  },
  {
   "cell_type": "code",
   "execution_count": 47,
   "metadata": {},
   "outputs": [
    {
     "name": "stdout",
     "output_type": "stream",
     "text": [
      "Hello, my name is Asad\n"
     ]
    }
   ],
   "source": [
    "#Local variables\n",
    "def f():\n",
    "    s=\"Hello, my name is Asad\"\n",
    "    print(s)\n",
    "\n",
    "f()"
   ]
  },
  {
   "cell_type": "code",
   "execution_count": 48,
   "metadata": {},
   "outputs": [
    {
     "name": "stdout",
     "output_type": "stream",
     "text": [
      "Hello, my name is Asad\n"
     ]
    }
   ],
   "source": [
    "#Global variables\n",
    "def f():\n",
    "    print(s)\n",
    "#Global scope\n",
    "s=\"Hello, my name is Asad\"\n",
    "f()"
   ]
  },
  {
   "cell_type": "markdown",
   "metadata": {},
   "source": [
    "### ___Global Keyword___\n",
    "- It allows user to modify a variable outside of its scope\n",
    "- It is used to create a global variable from a non-global scope (Inside a function)\n",
    "- __Rules of Global Keyword__\n",
    "    * If a variable is assigned a value anywhere within function, it is assumed to be local until explicitly declared global\n",
    "    * Variables that are only referenced inside a function are implicitly global\n",
    "    * Global keyword has no need to be used outside a function\n",
    "    * Global keyword is used to allow access of global variable inside function"
   ]
  },
  {
   "cell_type": "code",
   "execution_count": 7,
   "metadata": {},
   "outputs": [
    {
     "name": "stdout",
     "output_type": "stream",
     "text": [
      "20\n",
      "Value of x outside function:  20\n"
     ]
    }
   ],
   "source": [
    "#Global Keyword\n",
    "x=15\n",
    "def f():\n",
    "    global x\n",
    "    x=x+5\n",
    "    print(x)\n",
    "f()\n",
    "print(\"Value of x outside function: \",x)"
   ]
  },
  {
   "cell_type": "markdown",
   "metadata": {},
   "source": [
    "### __Object Reference in Python__\n",
    "- It is a pointer or reference to an object in memory\n",
    "- When you create a variable and assign it a value\n",
    "    * the reference to value is being assigned not the value itself\n",
    "- When you assign one variable to another, you're copying the reference, not the actual object\n",
    "    * Both variables refer to the same object in memory\n",
    "- Python uses garbage collector to manage memory\n",
    "    * When no referenes to an object remain, the garbage collector automatically deallocates the memory\n",
    "\n"
   ]
  },
  {
   "cell_type": "code",
   "execution_count": 9,
   "metadata": {},
   "outputs": [
    {
     "name": "stdout",
     "output_type": "stream",
     "text": [
      "Value of x:  6\n",
      "Value of y:  5\n"
     ]
    }
   ],
   "source": [
    "#Object\n",
    "x=5 #This creates an object an assigns it 5\n",
    "#then it creates a variable x and assigns it reference to object\n",
    "y=x #Variable y is created and it is given reference to object pointed by x"
   ]
  }
 ],
 "metadata": {
  "kernelspec": {
   "display_name": "Python 3",
   "language": "python",
   "name": "python3"
  },
  "language_info": {
   "codemirror_mode": {
    "name": "ipython",
    "version": 3
   },
   "file_extension": ".py",
   "mimetype": "text/x-python",
   "name": "python",
   "nbconvert_exporter": "python",
   "pygments_lexer": "ipython3",
   "version": "3.12.1"
  }
 },
 "nbformat": 4,
 "nbformat_minor": 2
}
