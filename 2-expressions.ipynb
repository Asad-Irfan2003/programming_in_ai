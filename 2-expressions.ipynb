{
 "cells": [
  {
   "cell_type": "markdown",
   "metadata": {},
   "source": [
    "# Expression in Python\n",
    "### __What is an expression?__\n",
    "- A combination of operators and operands that is interpreted to produce some value\n",
    "- It is evaluated as per precedence of its operators\n",
    "    - If there is more than one operator, their precedence decides what operation will be performed first\n",
    "\n",
    "### __Constant Expressions__\n",
    "- Expressions which have constant values only."
   ]
  },
  {
   "cell_type": "code",
   "execution_count": 6,
   "metadata": {},
   "outputs": [
    {
     "name": "stdout",
     "output_type": "stream",
     "text": [
      "2.8\n"
     ]
    }
   ],
   "source": [
    "# Example of constant expression:\n",
    "x = 1.5 + 1.3\n",
    "print(x)"
   ]
  },
  {
   "cell_type": "markdown",
   "metadata": {},
   "source": [
    "### __Arithmetic Expressions__:\n",
    "- Combination of numeric values, operators and sometimes paranthesis\n",
    "- Result of it is also a numeric value\n",
    "- Operators used in these are also arithmetic i.e addition, subtraction etc\n",
    "- __Arithmetic Operators in Python:__"
   ]
  },
  {
   "cell_type": "markdown",
   "metadata": {},
   "source": [
    "![ARITHMETIC_EXP](arith-op.jpeg)"
   ]
  },
  {
   "cell_type": "code",
   "execution_count": 4,
   "metadata": {},
   "outputs": [
    {
     "name": "stdout",
     "output_type": "stream",
     "text": [
      "Addition: 15 + 4 = 19\n",
      "Subtraction: 15 - 4 = 11\n",
      "Multiplication: 15 * 4 = 60\n",
      "Division: 15 / 4 = 3.75\n",
      "Floor Division: 15 // 4 = 3\n",
      "Modulus: 15 % 4 = 3\n",
      "Exponentiation: 15 ** 4 = 50625\n"
     ]
    }
   ],
   "source": [
    "# Example\n",
    "# Define two numbers\n",
    "a = 15\n",
    "b = 4\n",
    "\n",
    "# Addition\n",
    "addition_result = a + b\n",
    "print(f\"Addition: {a} + {b} = {addition_result}\")\n",
    "\n",
    "# Subtraction\n",
    "subtraction_result = a - b\n",
    "print(f\"Subtraction: {a} - {b} = {subtraction_result}\")\n",
    "\n",
    "# Multiplication\n",
    "multiplication_result = a * b\n",
    "print(f\"Multiplication: {a} * {b} = {multiplication_result}\")\n",
    "\n",
    "# Division\n",
    "division_result = a / b\n",
    "print(f\"Division: {a} / {b} = {division_result}\")\n",
    "\n",
    "# Floor Division (Quotient)\n",
    "floor_division_result = a // b\n",
    "print(f\"Floor Division: {a} // {b} = {floor_division_result}\")\n",
    "\n",
    "# Modulus\n",
    "modulus_result = a % b\n",
    "print(f\"Modulus: {a} % {b} = {modulus_result}\")\n",
    "\n",
    "# Exponentiation\n",
    "exponentiation_result = a**b\n",
    "print(f\"Exponentiation: {a} ** {b} = {exponentiation_result}\")"
   ]
  },
  {
   "cell_type": "markdown",
   "metadata": {},
   "source": [
    "### __Integral Expressions__\n",
    "- These expressions produce only integer results after all computations and type conversions"
   ]
  },
  {
   "cell_type": "code",
   "execution_count": 2,
   "metadata": {},
   "outputs": [
    {
     "name": "stdout",
     "output_type": "stream",
     "text": [
      "25\n"
     ]
    }
   ],
   "source": [
    "# Example\n",
    "a = 15.0\n",
    "b = 12.0\n",
    "\n",
    "c = int(a) + int(b)\n",
    "print(c)"
   ]
  },
  {
   "cell_type": "markdown",
   "metadata": {},
   "source": [
    "### __Floating Expressions__\n",
    "- These expressions produce only floating point numbers as results after all computations and type conversions"
   ]
  },
  {
   "cell_type": "code",
   "execution_count": 3,
   "metadata": {},
   "outputs": [
    {
     "name": "stdout",
     "output_type": "stream",
     "text": [
      "2.6\n"
     ]
    }
   ],
   "source": [
    "# Example\n",
    "a = 13\n",
    "b = 5\n",
    "c = a / b\n",
    "print(c)"
   ]
  },
  {
   "cell_type": "markdown",
   "metadata": {},
   "source": [
    "### __Relational Expressions__\n",
    "- Arithmetic expression is written on both sides of relational operator\n",
    "- Relational Operators are \n",
    "    * Greater than(>)\n",
    "    * Less than (<)\n",
    "    * Greater than or equal to (>=)\n",
    "    * Less than or equal to (<=)\n",
    "    * Equal to (==)\n",
    "- Arithmetic Expressions are evaluated first then compared by relational operator\n",
    "- These expressions produce boolean output(True or False)"
   ]
  },
  {
   "cell_type": "code",
   "execution_count": 4,
   "metadata": {},
   "outputs": [
    {
     "name": "stdout",
     "output_type": "stream",
     "text": [
      "True\n"
     ]
    }
   ],
   "source": [
    "# Example\n",
    "a = 21\n",
    "b = 13\n",
    "c = 40\n",
    "d = 37\n",
    "p = (a + b) >= (c - d)\n",
    "print(p)"
   ]
  },
  {
   "cell_type": "markdown",
   "metadata": {},
   "source": [
    "### __Logical Expressions__\n",
    "- These result in either True or False\n",
    "- It specifies one or more conditions\n",
    "- Logical operators are used in these"
   ]
  },
  {
   "cell_type": "markdown",
   "metadata": {},
   "source": [
    "![LOGICAL_OPERATIONS](log-op.jpeg)"
   ]
  },
  {
   "cell_type": "code",
   "execution_count": 7,
   "metadata": {},
   "outputs": [],
   "source": [
    "# Example1\n",
    "print(10 == 9)"
   ]
  },
  {
   "cell_type": "code",
   "execution_count": 9,
   "metadata": {},
   "outputs": [
    {
     "name": "stdout",
     "output_type": "stream",
     "text": [
      "False\n",
      "True\n",
      "True\n"
     ]
    }
   ],
   "source": [
    "# Example2\n",
    "P = 10 == 9\n",
    "Q = 7 > 5\n",
    "\n",
    "# Logical Expressions\n",
    "R = P and Q\n",
    "S = P or Q\n",
    "T = not P\n",
    "print(R)\n",
    "print(S)\n",
    "print(T)"
   ]
  },
  {
   "cell_type": "markdown",
   "metadata": {},
   "source": [
    "### __Bitwise Operators__\n",
    "- They are used to perform bitwise calculations on integers\n",
    "- Integers are first converted into binary, then operations are performed on each corresponding bits\n",
    "- Result of bitwise operations is in decimal integer form\n",
    "- __NOTE:__ Bitwise operations only work in integers in python"
   ]
  },
  {
   "cell_type": "markdown",
   "metadata": {},
   "source": [
    "![Bitwise_Operators](bitwise-op.jpeg)"
   ]
  },
  {
   "cell_type": "code",
   "execution_count": 10,
   "metadata": {},
   "outputs": [
    {
     "name": "stdout",
     "output_type": "stream",
     "text": [
      "0\n"
     ]
    }
   ],
   "source": [
    "# Example 1\n",
    "# Bitwise and operator\n",
    "a = 10  # 1010\n",
    "b = 4  # 0100\n",
    "c = a & b  # 0000\n",
    "print(c)"
   ]
  },
  {
   "cell_type": "code",
   "execution_count": 15,
   "metadata": {},
   "outputs": [
    {
     "name": "stdout",
     "output_type": "stream",
     "text": [
      "14\n"
     ]
    }
   ],
   "source": [
    "# Example 2\n",
    "# Bitwise or operator\n",
    "a = 10  # 1010\n",
    "b = 4  # 0100\n",
    "c = a | b  # 1110\n",
    "print(c)"
   ]
  },
  {
   "cell_type": "code",
   "execution_count": 14,
   "metadata": {},
   "outputs": [
    {
     "name": "stdout",
     "output_type": "stream",
     "text": [
      "14\n"
     ]
    }
   ],
   "source": [
    "# Example 3\n",
    "# Bitwise xor operator\n",
    "a = 10  # 1010\n",
    "b = 4  # 0100\n",
    "c = a ^ b  # 0110\n",
    "print(c)"
   ]
  },
  {
   "cell_type": "code",
   "execution_count": 16,
   "metadata": {},
   "outputs": [
    {
     "name": "stdout",
     "output_type": "stream",
     "text": [
      "-11\n"
     ]
    }
   ],
   "source": [
    "# Example 4\n",
    "# Bitwise not operator\n",
    "a = 10  # 01010\n",
    "c = ~a  # 10101\n",
    "print(c)"
   ]
  },
  {
   "cell_type": "code",
   "execution_count": 17,
   "metadata": {},
   "outputs": [
    {
     "name": "stdout",
     "output_type": "stream",
     "text": [
      "5\n"
     ]
    }
   ],
   "source": [
    "#Example 5\n",
    "#Bitwise right shift\n",
    "a=10 #1010\n",
    "b=a>>1 #Shift a right by 1, #0101\n",
    "print(b)\n"
   ]
  },
  {
   "cell_type": "code",
   "execution_count": 19,
   "metadata": {},
   "outputs": [
    {
     "name": "stdout",
     "output_type": "stream",
     "text": [
      "20\n"
     ]
    }
   ],
   "source": [
    "#Example 6\n",
    "#Bitwise left shift\n",
    "a=10 #1010\n",
    "b=a<<1 #Shift a left by 1, #10100\n",
    "print(b)"
   ]
  }
 ],
 "metadata": {
  "kernelspec": {
   "display_name": "Python 3",
   "language": "python",
   "name": "python3"
  },
  "language_info": {
   "codemirror_mode": {
    "name": "ipython",
    "version": 3
   },
   "file_extension": ".py",
   "mimetype": "text/x-python",
   "name": "python",
   "nbconvert_exporter": "python",
   "pygments_lexer": "ipython3",
   "version": "3.12.1"
  }
 },
 "nbformat": 4,
 "nbformat_minor": 2
}
