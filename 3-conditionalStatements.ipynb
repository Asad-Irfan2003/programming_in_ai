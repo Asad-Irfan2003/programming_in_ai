{
 "cells": [
  {
   "cell_type": "markdown",
   "metadata": {},
   "source": [
    "# Conditional Statements\n",
    "- It plays a key role in determining the direction of program execution\n",
    "- They provide a choice for the control flow based on condition\n",
    "\n",
    "### __Types of Conditional Statement__\n",
    "1. If condition\n",
    "        "
   ]
  },
  {
   "cell_type": "code",
   "execution_count": null,
   "metadata": {},
   "outputs": [],
   "source": [
    "# Syntax\n",
    "# if (condition):\n",
    "    # This block executes if condition is true"
   ]
  },
  {
   "cell_type": "code",
   "execution_count": 1,
   "metadata": {},
   "outputs": [
    {
     "name": "stdout",
     "output_type": "stream",
     "text": [
      "10 is greater than 5\n",
      "Program ended\n"
     ]
    }
   ],
   "source": [
    "# Example\n",
    "if 10 > 5:\n",
    "    print(\"10 is greater than 5\")\n",
    "print(\"Program ended\")"
   ]
  },
  {
   "cell_type": "markdown",
   "metadata": {},
   "source": [
    "2. if else condition"
   ]
  },
  {
   "cell_type": "code",
   "execution_count": null,
   "metadata": {},
   "outputs": [],
   "source": [
    "# Syntax\n",
    "# if (condition):\n",
    "    # This block executes if condition is true\n",
    "# else:\n",
    "    # This block executes if statement is false"
   ]
  },
  {
   "cell_type": "code",
   "execution_count": 2,
   "metadata": {},
   "outputs": [
    {
     "name": "stdout",
     "output_type": "stream",
     "text": [
      "No\n"
     ]
    }
   ],
   "source": [
    "# Example\n",
    "x = 3\n",
    "if x == 4:\n",
    "    print(\"Yes\")\n",
    "else:\n",
    "    print(\"No\")"
   ]
  },
  {
   "cell_type": "markdown",
   "metadata": {},
   "source": [
    "3. Nested if else condition"
   ]
  },
  {
   "cell_type": "code",
   "execution_count": null,
   "metadata": {},
   "outputs": [],
   "source": [
    "# Syntax\n",
    "# if condition1:\n",
    "    # This block executes if condition1 is True\n",
    "    # if condition2:\n",
    "        # This block executes if condition1 and condition2 are True\n",
    "    # else:\n",
    "        # This block executes if condition1 is True but condition2 is False\n",
    "# else:\n",
    "    # This block executes if condition1 is False\n",
    "    # if condition3:\n",
    "        # This block executes if condition1 is False and condition3 is True\n",
    "    # else:\n",
    "        # This block executes if condition1 and condition3 are False"
   ]
  },
  {
   "cell_type": "code",
   "execution_count": 3,
   "metadata": {},
   "outputs": [
    {
     "name": "stdout",
     "output_type": "stream",
     "text": [
      "You can enter the concert\n"
     ]
    }
   ],
   "source": [
    "# Example\n",
    "age = 20\n",
    "has_ticket = True\n",
    "\n",
    "if age >= 18:\n",
    "    if has_ticket == True:\n",
    "        print(\"You can enter the concert\")\n",
    "    else:\n",
    "        print(\"You need a ticket to enter the concert\")\n",
    "else:\n",
    "    if has_ticket == True:\n",
    "        print(\"You are too young to enter, even if you have a ticket\")\n",
    "    else:\n",
    "        print(\"You are too young to enter and you do not even have a ticket\")"
   ]
  },
  {
   "cell_type": "markdown",
   "metadata": {},
   "source": [
    "4. if-elif-else"
   ]
  },
  {
   "cell_type": "code",
   "execution_count": null,
   "metadata": {},
   "outputs": [],
   "source": [
    "# Syntax\n",
    "# if condition1:\n",
    "    # This block executes if condition1 is True\n",
    "# elif condition2:\n",
    "    # This block executes if condition1 is False and condition2 is True\n",
    "# elif condition3:\n",
    "    # This block executes if both condition1 and condition2 are False and condition3 is True\n",
    "# else:\n",
    "    # This block executes if none of the above conditions are True"
   ]
  },
  {
   "cell_type": "markdown",
   "metadata": {},
   "source": [
    "5. Tenary Expression Conditional Statement"
   ]
  },
  {
   "cell_type": "code",
   "execution_count": null,
   "metadata": {},
   "outputs": [],
   "source": [
    "#Syntax\n",
    "# [on_true] if [expression] else [on_false] expression: conditional_expression | lambda_expression"
   ]
  },
  {
   "cell_type": "code",
   "execution_count": 4,
   "metadata": {},
   "outputs": [
    {
     "name": "stdout",
     "output_type": "stream",
     "text": [
      "adult\n"
     ]
    }
   ],
   "source": [
    "#Example1:\n",
    "age=18\n",
    "status= \"adult\" if age>=18 else \"minor\"\n",
    "print(status)"
   ]
  },
  {
   "cell_type": "code",
   "execution_count": 6,
   "metadata": {},
   "outputs": [
    {
     "name": "stdout",
     "output_type": "stream",
     "text": [
      "even\n"
     ]
    }
   ],
   "source": [
    "#Example2:\n",
    "num=5\n",
    "result= \"even\" if num%2==0 else \"odd\"\n",
    "print(result)"
   ]
  },
  {
   "cell_type": "code",
   "execution_count": 7,
   "metadata": {},
   "outputs": [
    {
     "name": "stdout",
     "output_type": "stream",
     "text": [
      "positive\n"
     ]
    }
   ],
   "source": [
    "#Nested tenary example\n",
    "x=42\n",
    "description=\"positive\" if x>0 else \"zero\" if x==0 else \"negative\"\n",
    "print(description)"
   ]
  }
 ],
 "metadata": {
  "kernelspec": {
   "display_name": "Python 3",
   "language": "python",
   "name": "python3"
  },
  "language_info": {
   "codemirror_mode": {
    "name": "ipython",
    "version": 3
   },
   "file_extension": ".py",
   "mimetype": "text/x-python",
   "name": "python",
   "nbconvert_exporter": "python",
   "pygments_lexer": "ipython3",
   "version": "3.12.1"
  }
 },
 "nbformat": 4,
 "nbformat_minor": 2
}
