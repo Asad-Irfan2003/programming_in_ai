{
 "cells": [
  {
   "cell_type": "markdown",
   "metadata": {},
   "source": [
    "# __Functions in Python__\n",
    "- It is a block of statements that return a specific task\n",
    "- The idea of a function is to put some commonly or repeatedly done task into a function\n",
    "    - By doing so, we can reuse the code from function instead of writing the same code for different inputs\n",
    "\n",
    "### __Benefits of Functions__\n",
    "- It increases code readability\n",
    "- It increases code reusability\n",
    "\n",
    "### __Basic Syntax of Functions__"
   ]
  },
  {
   "cell_type": "markdown",
   "metadata": {},
   "source": [
    "![Function_syntax](function_syntax.png)\n"
   ]
  },
  {
   "cell_type": "code",
   "execution_count": 1,
   "metadata": {},
   "outputs": [],
   "source": [
    "#Example of function\n",
    "def fun():\n",
    "    print(\"Hello World\")"
   ]
  },
  {
   "cell_type": "markdown",
   "metadata": {},
   "source": [
    "### __Types of functions__\n",
    "1. Built-in functions\n",
    "    - These are standard python functions in python available to use\n",
    "2. User-defined functions\n",
    "    - Functions created by user as per their requirements"
   ]
  },
  {
   "cell_type": "markdown",
   "metadata": {},
   "source": [
    "### __Calling a function in Python__\n",
    "- We can call a function by using the name of functions in python followed by paranthesis and arguments"
   ]
  },
  {
   "cell_type": "code",
   "execution_count": 2,
   "metadata": {},
   "outputs": [
    {
     "name": "stdout",
     "output_type": "stream",
     "text": [
      "Hello World\n"
     ]
    }
   ],
   "source": [
    "#Example of calling a function\n",
    "def fun():\n",
    "    print(\"Hello World\")\n",
    "\n",
    "fun() #Calling a function"
   ]
  },
  {
   "cell_type": "markdown",
   "metadata": {},
   "source": [
    "### __Parameters__\n",
    "- variables defined within the paranthesis of function during function definition\n",
    "- Written when we declare a function"
   ]
  },
  {
   "cell_type": "code",
   "execution_count": 2,
   "metadata": {},
   "outputs": [],
   "source": [
    "#Example of parameters\n",
    "#In this function, a and b are parameters\n",
    "def fun(a,b):\n",
    "    return a+b\n",
    "print(fun(1,2))"
   ]
  },
  {
   "cell_type": "markdown",
   "metadata": {},
   "source": [
    "### __Arguments__\n",
    "- Value passed into a function when it is called\n",
    "- Argument can be a variable, value or object passed to a function or method as input\n",
    "- Arguments are written when we call a function"
   ]
  },
  {
   "cell_type": "code",
   "execution_count": 4,
   "metadata": {},
   "outputs": [
    {
     "name": "stdout",
     "output_type": "stream",
     "text": [
      "30\n"
     ]
    }
   ],
   "source": [
    "#Example of arguments\n",
    "def fun(a,b):\n",
    "    return a+b\n",
    "#In this case, c and d are arguments\n",
    "c=10\n",
    "d=20\n",
    "print(fun(c,d))"
   ]
  },
  {
   "cell_type": "markdown",
   "metadata": {},
   "source": [
    "### __Types of Arguments:__\n",
    "1. __Default Arguments__\n",
    "    - A parameter which assumes a default value if a value is not provided for a parameter during function call\n",
    "    - Any number of parameters can have a default value in a function\n",
    "    - __NOTE:__ Once we have a default argument, all arguments to it's right must also be default argument"
   ]
  },
  {
   "cell_type": "code",
   "execution_count": 5,
   "metadata": {},
   "outputs": [
    {
     "name": "stdout",
     "output_type": "stream",
     "text": [
      "60\n",
      "30\n"
     ]
    }
   ],
   "source": [
    "#Example of default arguments\n",
    "def fun(a,b=50): #b has a default value of 50\n",
    "    return a+b\n",
    "#So unless we define a value of b, it will have a value of b by default\n",
    "print(fun(10)) # returns 60 since a=10 and b=50\n",
    "print(fun(10,20)) #returns 30 since a=10 and b=20 are both given a value as argument\n"
   ]
  },
  {
   "cell_type": "code",
   "execution_count": 13,
   "metadata": {},
   "outputs": [
    {
     "name": "stdout",
     "output_type": "stream",
     "text": [
      "Hello Asad\n",
      "Hello guest\n"
     ]
    }
   ],
   "source": [
    "#Example 2 of default arguments\n",
    "def greet(name=\"guest\"):\n",
    "    print(\"Hello\",name)\n",
    "greet(\"Asad\")\n",
    "greet()"
   ]
  },
  {
   "cell_type": "code",
   "execution_count": 15,
   "metadata": {},
   "outputs": [
    {
     "name": "stdout",
     "output_type": "stream",
     "text": [
      "Welcome, Asad\n",
      "Hello, guest\n"
     ]
    }
   ],
   "source": [
    "#Example 3 of default arguments\n",
    "def greet(name=\"guest\",greeting=\"Hello\"):\n",
    "    print(f\"{greeting}, {name}\")\n",
    "greet(\"Asad\",\"Welcome\")\n",
    "greet()"
   ]
  },
  {
   "cell_type": "markdown",
   "metadata": {},
   "source": [
    "2. __Keyword Arguments__\n",
    "    - The caller is allowed to specify argument name with values\n",
    "    - By doing so, the caller does not need to remember the order of parameters"
   ]
  },
  {
   "cell_type": "code",
   "execution_count": 7,
   "metadata": {},
   "outputs": [
    {
     "name": "stdout",
     "output_type": "stream",
     "text": [
      "Asad Irfan\n",
      "Asad Irfan\n"
     ]
    }
   ],
   "source": [
    "#Example of keyword arguments\n",
    "def student(firstname, lastname):\n",
    "    print(firstname,lastname)\n",
    "student(firstname=\"Asad\",lastname=\"Irfan\")\n",
    "student(lastname=\"Irfan\",firstname=\"Asad\")"
   ]
  },
  {
   "cell_type": "markdown",
   "metadata": {},
   "source": [
    "3. __Positional Arguments__\n",
    "    - arguments are passed based on their position\n",
    "    - order of arguments matter in this case\n",
    "    - __NOTE:__ Positional arguments must always come before default arguments"
   ]
  },
  {
   "cell_type": "code",
   "execution_count": 30,
   "metadata": {},
   "outputs": [
    {
     "name": "stdout",
     "output_type": "stream",
     "text": [
      "1 2 3\n"
     ]
    }
   ],
   "source": [
    "#Example 1 of positonal arguments\n",
    "def fun(num1,num2,num3):\n",
    "    print(num1,num2,num3)\n",
    "\n",
    "fun(1,2,3)"
   ]
  },
  {
   "cell_type": "code",
   "execution_count": 11,
   "metadata": {},
   "outputs": [
    {
     "name": "stdout",
     "output_type": "stream",
     "text": [
      "My name is Asad and my age is 30\n",
      "My name is 30 and my age is Asad\n"
     ]
    }
   ],
   "source": [
    "#Example 2 of positional arguments\n",
    "def fun(name,age):\n",
    "    print(f\"My name is {name} and my age is {age}\")\n",
    "fun(\"Asad\",30) \n",
    "fun(30, \"Asad\")"
   ]
  },
  {
   "cell_type": "code",
   "execution_count": 16,
   "metadata": {},
   "outputs": [
    {
     "name": "stdout",
     "output_type": "stream",
     "text": [
      "200\n"
     ]
    }
   ],
   "source": [
    "#Example 3 of positional arguments\n",
    "def area(width, height):\n",
    "    return width*height\n",
    "print(area(10,20))"
   ]
  },
  {
   "cell_type": "markdown",
   "metadata": {},
   "source": [
    "4. __Arbitrary Keyword arguments__\n",
    "- These arguments are used to allow user to send multiple arguments at a time\n",
    "- To do this, send *args to function parameter to allow variable number of positional arguments"
   ]
  },
  {
   "cell_type": "code",
   "execution_count": 17,
   "metadata": {},
   "outputs": [
    {
     "name": "stdout",
     "output_type": "stream",
     "text": [
      "60\n"
     ]
    }
   ],
   "source": [
    "#Example for arbitrary keyword\n",
    "def fun(*args):\n",
    "    sum=0\n",
    "    for arg in args:\n",
    "        sum+=arg\n",
    "    return sum\n",
    "\n",
    "print(fun(10,20,30))\n"
   ]
  },
  {
   "cell_type": "code",
   "execution_count": 19,
   "metadata": {},
   "outputs": [
    {
     "name": "stdout",
     "output_type": "stream",
     "text": [
      "Hello my name is Asad "
     ]
    }
   ],
   "source": [
    "#Example for arbitrary keyword\n",
    "def fun(*args):\n",
    "    for arg in args:\n",
    "        print(arg,end=\" \")\n",
    "\n",
    "fun(\"Hello\",\"my\",\"name\",\"is\",\"Asad\")"
   ]
  },
  {
   "cell_type": "markdown",
   "metadata": {},
   "source": [
    "### __Docstring:__\n",
    "- It is the first string after function declaration\n",
    "- Optional\n",
    "- Used to describe the functionality of string"
   ]
  },
  {
   "cell_type": "code",
   "execution_count": null,
   "metadata": {},
   "outputs": [],
   "source": [
    "#Example of docstring\n",
    "def evenOdd(x):\n",
    "    \"\"\"Takes a number as an argument and prints whether it is even or odd(Docstring example)\"\"\"\n",
    "    if(x%2==0):\n",
    "        print(\"even\")\n",
    "    else:\n",
    "        print(\"odd\")\n",
    "\n",
    "evenOdd(10)"
   ]
  },
  {
   "cell_type": "markdown",
   "metadata": {},
   "source": [
    "### __Return Statement in Python:__\n",
    "- It is used to exit from a function and go back to function caller\n",
    "- It also returns a specified value or data item to caller\n",
    "- Return statement can be a variable, an expression, or a constant returned at the end of function execution\n",
    "- If nothing is returned, a None object is returned"
   ]
  },
  {
   "cell_type": "code",
   "execution_count": 20,
   "metadata": {},
   "outputs": [],
   "source": [
    "#def function_name(parameters):\n",
    "    # Code logic\n",
    "    #return [expression]"
   ]
  },
  {
   "cell_type": "code",
   "execution_count": 21,
   "metadata": {},
   "outputs": [
    {
     "name": "stdout",
     "output_type": "stream",
     "text": [
      "30\n"
     ]
    }
   ],
   "source": [
    "#Example of return statement 1\n",
    "def fun(a,b):\n",
    "    return a+b\n",
    "c=fun(10,20)\n",
    "print(c)"
   ]
  },
  {
   "cell_type": "code",
   "execution_count": 23,
   "metadata": {},
   "outputs": [
    {
     "name": "stdout",
     "output_type": "stream",
     "text": [
      "30\n",
      "10\n"
     ]
    }
   ],
   "source": [
    "#Example 2: Returning multiple values\n",
    "def fun(a,b):\n",
    "    sum=a+b\n",
    "    diff=a-b\n",
    "    return sum,diff\n",
    "sum,diff=fun(20,10)\n",
    "print(sum)\n",
    "print(diff)"
   ]
  },
  {
   "cell_type": "code",
   "execution_count": 24,
   "metadata": {},
   "outputs": [
    {
     "name": "stdout",
     "output_type": "stream",
     "text": [
      "False\n",
      "True\n"
     ]
    }
   ],
   "source": [
    "#Example 3: Returning early\n",
    "def is_even(a):\n",
    "    if(a%2==0):\n",
    "        return True\n",
    "    else:\n",
    "        return False\n",
    "print(is_even(7)) #Returns false\n",
    "print(is_even(8)) #Returns true"
   ]
  },
  {
   "cell_type": "code",
   "execution_count": 26,
   "metadata": {},
   "outputs": [
    {
     "name": "stdout",
     "output_type": "stream",
     "text": [
      "This function returns nothing\n",
      "None\n"
     ]
    }
   ],
   "source": [
    "#Example 4: Returning nothing(None object)\n",
    "def no_return():\n",
    "    print(\"This function returns nothing\")\n",
    "result=no_return()\n",
    "print(result)"
   ]
  },
  {
   "cell_type": "markdown",
   "metadata": {},
   "source": [
    "### __Pass by Value v/s Pass by Reference__\n",
    "- __Pass by value:__\n",
    "    - A copy of the variable is passed into the function\n",
    "    - Any changes made to the variable inside the function will not affect the original function\n",
    "    - Immutable  objects like int, string a tuples are passed by value\n",
    "- __Pass by reference:__\n",
    "    - A reference to variable is passed as a function\n",
    "    - Changes made to variable inside a function do affect the original variable because both variables point to same object\n",
    "    - Mutable objects like list, dictionary and array are passed by reference"
   ]
  },
  {
   "cell_type": "code",
   "execution_count": 27,
   "metadata": {},
   "outputs": [
    {
     "name": "stdout",
     "output_type": "stream",
     "text": [
      "Value inside function: 11\n",
      "Value outside function: 10\n"
     ]
    }
   ],
   "source": [
    "#Passing by value\n",
    "def modify_value(x):\n",
    "    x=x+1 # This does not change the original x value since x in function is only a copy\n",
    "    print(\"Value inside function:\",x)\n",
    "x=10\n",
    "modify_value(10)\n",
    "print(\"Value outside function:\",x)"
   ]
  },
  {
   "cell_type": "code",
   "execution_count": 1,
   "metadata": {},
   "outputs": [
    {
     "name": "stdout",
     "output_type": "stream",
     "text": [
      "List inside function: [10, 20, 30, 40]\n",
      "List outside function [10, 20, 30, 40]\n"
     ]
    }
   ],
   "source": [
    "#Example 2: Passing by reference\n",
    "def modify_list(list):\n",
    "    list.append(40)\n",
    "    print(\"List inside function:\",list)\n",
    "list=[10,20,30]\n",
    "modify_list(list)\n",
    "print(\"List outside function\",list)"
   ]
  }
 ],
 "metadata": {
  "kernelspec": {
   "display_name": "Python 3",
   "language": "python",
   "name": "python3"
  },
  "language_info": {
   "codemirror_mode": {
    "name": "ipython",
    "version": 3
   },
   "file_extension": ".py",
   "mimetype": "text/x-python",
   "name": "python",
   "nbconvert_exporter": "python",
   "pygments_lexer": "ipython3",
   "version": "3.12.1"
  }
 },
 "nbformat": 4,
 "nbformat_minor": 2
}
