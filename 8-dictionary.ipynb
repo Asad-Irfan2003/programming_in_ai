{
 "cells": [
  {
   "cell_type": "markdown",
   "metadata": {},
   "source": [
    "# __Dictionary__\n",
    "- It is a collection of key-value pairs where each key is unique\n",
    "- They are mutable so they can be changed after being created\n",
    "- They are unordered\n",
    "- A value in dictionary can be of any data type and it can be duplicated\n",
    "- Keys are unique so they can't be repeated and must be immutable, they are also case sensitive so same name but different cases of keys will be treated differently\n",
    "\n",
    "### __Creating a dictionary__\n",
    "- a dictionary is created by using {} brackets or by using dict() function\n",
    "- A key an value is seperated by colon ( : ) and each element is seperated by a comma ( , )\n"
   ]
  },
  {
   "cell_type": "code",
   "execution_count": null,
   "metadata": {},
   "outputs": [],
   "source": [
    "#Syntax 1: Using {}\n",
    "#<dict_name> = {key1:value1, key2:value2}"
   ]
  },
  {
   "cell_type": "code",
   "execution_count": null,
   "metadata": {},
   "outputs": [],
   "source": [
    "#Syntax 2: Using dict() function\n",
    "#<dict_name>=dict(<key_name>:<data>...)"
   ]
  },
  {
   "cell_type": "code",
   "execution_count": 1,
   "metadata": {},
   "outputs": [
    {
     "name": "stdout",
     "output_type": "stream",
     "text": [
      "{'name': 'Zoha', 'age': 21, 'city': 'Karachi'}\n"
     ]
    }
   ],
   "source": [
    "# Example 1: Basic key-value pair creation\n",
    "person = {\n",
    "    \"name\":\"Zoha\",\n",
    "    \"age\":21,\n",
    "    \"city\":\"Karachi\"\n",
    "}\n",
    "print(person)"
   ]
  },
  {
   "cell_type": "code",
   "execution_count": 2,
   "metadata": {},
   "outputs": [
    {
     "name": "stdout",
     "output_type": "stream",
     "text": [
      "{'name': 'Zoha', 'age': 25, 'university': 'Fast NUCES'}\n"
     ]
    }
   ],
   "source": [
    "# Example 2: Using dict() constructor\n",
    "person = dict(name=\"Zoha\",age=25,university=\"Fast NUCES\")\n",
    "print(person)"
   ]
  },
  {
   "cell_type": "code",
   "execution_count": 3,
   "metadata": {},
   "outputs": [
    {
     "name": "stdout",
     "output_type": "stream",
     "text": [
      "{}\n",
      "{}\n"
     ]
    }
   ],
   "source": [
    "# Example 3: Creating an empty dictionary\n",
    "d1 = {}\n",
    "d2 = dict()\n",
    "print(d1,d2,sep=\"\\n\")"
   ]
  },
  {
   "cell_type": "code",
   "execution_count": 4,
   "metadata": {},
   "outputs": [
    {
     "name": "stdout",
     "output_type": "stream",
     "text": [
      "{'name': 'Zoha', 'age': 21, 'grades': [88, 92, 95], 'is_graduated': False}\n"
     ]
    }
   ],
   "source": [
    "# Example 4: Dictionary with mixed data types\n",
    "student = {\n",
    "    \"name\":\"Zoha\",\n",
    "    \"age\":21,\n",
    "    \"grades\":[88,92,95],\n",
    "    \"is_graduated\":False\n",
    "}\n",
    "print(student)"
   ]
  },
  {
   "cell_type": "code",
   "execution_count": 5,
   "metadata": {},
   "outputs": [
    {
     "name": "stdout",
     "output_type": "stream",
     "text": [
      "{'name': 'Techcorp', 'location': 'karachi', 'employees': {'Zoha': {'age': 21, 'position': 'janitor'}, 'Asad': {'age': 21, 'position': 'engineer'}}}\n"
     ]
    }
   ],
   "source": [
    "# Example 5: Nested dictionary\n",
    "company = {\n",
    "    \"name\":\"Techcorp\",\n",
    "    \"location\":\"karachi\",\n",
    "    \"employees\":{\n",
    "        \"Zoha\":{\"age\":21,\"position\":\"janitor\"},\n",
    "        \"Asad\":{\"age\":21,\"position\":\"engineer\"}\n",
    "    }\n",
    "}\n",
    "print(company)"
   ]
  },
  {
   "cell_type": "code",
   "execution_count": 7,
   "metadata": {},
   "outputs": [
    {
     "name": "stdout",
     "output_type": "stream",
     "text": [
      "{(0, 0): 'origin', (1, 2): 'Point A', (3, 4): 'Point B'}\n"
     ]
    }
   ],
   "source": [
    "# Example 6: Dictionary with tuples as keys\n",
    "coordinates = {\n",
    "    (0,0):\"origin\",\n",
    "    (1,2):\"Point A\",\n",
    "    (3,4):\"Point B\"\n",
    "}\n",
    "print(coordinates)"
   ]
  },
  {
   "cell_type": "markdown",
   "metadata": {},
   "source": [
    "### __Accessing values in dictionary__\n",
    "- To access any value from a dictionary, there are two ways\n",
    "    1. Use __[ ]__ brackets, with key for specific value between the brackets\n",
    "        - Using a key which does not exist will raise a __KeyError__\n",
    "    2. Using __get(key,default_value)__ method with key as argument\n",
    "        - It does not raise a KeyError on wrong key_value, instead it returns default_value"
   ]
  },
  {
   "cell_type": "code",
   "execution_count": null,
   "metadata": {},
   "outputs": [],
   "source": [
    "#Syntax 1: Using []\n",
    "#<dict_name>.[key]"
   ]
  },
  {
   "cell_type": "code",
   "execution_count": null,
   "metadata": {},
   "outputs": [],
   "source": [
    "#Syntax 2: Using get() method\n",
    "#<dict_name>.get(key)"
   ]
  },
  {
   "cell_type": "code",
   "execution_count": 2,
   "metadata": {},
   "outputs": [
    {
     "name": "stdout",
     "output_type": "stream",
     "text": [
      "Zoha\n",
      "21\n",
      "Karachi\n"
     ]
    }
   ],
   "source": [
    "#Example 1: Using []\n",
    "person = {\"name\":\"Zoha\",\"age\":21,\"city\":\"Karachi\"}\n",
    "#Accessing name\n",
    "name=person[\"name\"]\n",
    "print(name)\n",
    "\n",
    "#Accessing age\n",
    "age=person[\"age\"]\n",
    "print(age)\n",
    "\n",
    "#Accessing city\n",
    "city=person[\"city\"]\n",
    "print(city)"
   ]
  },
  {
   "cell_type": "code",
   "execution_count": 3,
   "metadata": {},
   "outputs": [],
   "source": [
    "#Example 2: Handling KeyError\n",
    "person = {\"name\":\"Zoha\",\"age\":21,\"city\":\"Karachi\"}\n",
    "try:\n",
    "    job=person[\"job\"]\n",
    "except KeyError:\n",
    "    print(\"Key does not exist\")\n"
   ]
  },
  {
   "cell_type": "code",
   "execution_count": 6,
   "metadata": {},
   "outputs": [
    {
     "name": "stdout",
     "output_type": "stream",
     "text": [
      "Asad\n",
      "21\n",
      "Karachi\n",
      "Not Specified\n"
     ]
    }
   ],
   "source": [
    "#Example 3: Using get() method\n",
    "person = {\"name\":\"Asad\",\"age\":21,\"city\":\"Karachi\"}\n",
    "#Accessing name\n",
    "name=person.get(\"name\")\n",
    "print(name)\n",
    "\n",
    "#Accessing age\n",
    "age=person.get(\"age\")\n",
    "print(age)\n",
    "\n",
    "#Accessing city\n",
    "city=person.get(\"city\")\n",
    "print(city)\n",
    "\n",
    "#Accesing a key which does not exist with default value\n",
    "job=person.get(\"job\",\"Not Specified\")\n",
    "print(job)"
   ]
  },
  {
   "cell_type": "code",
   "execution_count": 7,
   "metadata": {},
   "outputs": [
    {
     "name": "stdout",
     "output_type": "stream",
     "text": [
      "90.0\n",
      "70.0\n"
     ]
    }
   ],
   "source": [
    "#Example 4: Accessing nested dictionary\n",
    "student = {\n",
    "    \"name\":\"Asad\",\n",
    "    \"grades\":{\n",
    "        \"math\":90.0,\n",
    "        \"science\":70.0\n",
    "    }\n",
    "}\n",
    "#Accessing math grades\n",
    "mathGrade= student[\"grades\"][\"math\"]\n",
    "print(mathGrade)\n",
    "\n",
    "#Accessing science grades\n",
    "scienceGrade = student[\"grades\"][\"science\"]\n",
    "print(scienceGrade)"
   ]
  },
  {
   "cell_type": "code",
   "execution_count": 9,
   "metadata": {},
   "outputs": [
    {
     "name": "stdout",
     "output_type": "stream",
     "text": [
      "['sust rehna', 'bak bak krna', 'Python']\n",
      "sust rehna\n"
     ]
    }
   ],
   "source": [
    "#Example 5: Accessing a list inside a dictionary\n",
    "employee = {\n",
    "    \"name\":\"Zoha\",\n",
    "    \"skills\":[\"sust rehna\",\"bak bak krna\",\"Python\"]\n",
    "\n",
    "}\n",
    "#Accessing entire skills list\n",
    "skills=employee[\"skills\"]\n",
    "print(skills)\n",
    "\n",
    "#Accessing first skill\n",
    "first_skill=employee[\"skills\"][0]\n",
    "print(first_skill)"
   ]
  },
  {
   "cell_type": "code",
   "execution_count": 10,
   "metadata": {},
   "outputs": [
    {
     "name": "stdout",
     "output_type": "stream",
     "text": [
      "name : Asad\n",
      "age : 21\n",
      "city : Karachi\n"
     ]
    }
   ],
   "source": [
    "# Example 6: Accessing all values in a dictionary\n",
    "person = {\"name\":\"Asad\",\"age\":21,\"city\":\"Karachi\"}\n",
    "for key in person:\n",
    "    print(key,\":\",person[key])"
   ]
  },
  {
   "cell_type": "markdown",
   "metadata": {},
   "source": [
    "### __Adding new elements/Updating existing elements in dictionary__\n",
    "- To add a new element, assign a value to person with a key that does not exist in __[]__ brackets\n",
    "- To update an existing element, assign a new value to person with key that exists in __[]__ brackets"
   ]
  },
  {
   "cell_type": "code",
   "execution_count": null,
   "metadata": {},
   "outputs": [],
   "source": [
    "#Syntax 1: Adding a new element\n",
    "#<dict_name>[new_key]=value"
   ]
  },
  {
   "cell_type": "code",
   "execution_count": null,
   "metadata": {},
   "outputs": [],
   "source": [
    "#Syntax 2: Updating an existing element\n",
    "#<dict_name>[existing_key]=value"
   ]
  },
  {
   "cell_type": "code",
   "execution_count": 11,
   "metadata": {},
   "outputs": [
    {
     "name": "stdout",
     "output_type": "stream",
     "text": [
      "{'name': 'Zoha', 'age': 21}\n",
      "{'name': 'Zoha', 'age': 21, 'city': 'karachi'}\n"
     ]
    }
   ],
   "source": [
    "#Example 1: Adding new key-value pair\n",
    "person = {\"name\":\"Zoha\",\"age\":21}\n",
    "print(person)\n",
    "#Adding key city with value \"karachi\"\n",
    "person[\"city\"]=\"karachi\"\n",
    "\n",
    "print(person)"
   ]
  },
  {
   "cell_type": "code",
   "execution_count": 12,
   "metadata": {},
   "outputs": [
    {
     "name": "stdout",
     "output_type": "stream",
     "text": [
      "{'name': 'Zoha', 'age': '21', 'city': 'karachi'}\n",
      "{'name': 'Zoha', 'age': 9, 'city': 'karachi'}\n"
     ]
    }
   ],
   "source": [
    "#Example 2: Updating an existing key-value pair\n",
    "person = {\"name\":\"Zoha\",\"age\":\"21\",\"city\":\"karachi\"}\n",
    "print(person)\n",
    "#Updating age of person with her actual age\n",
    "person[\"age\"]=9\n",
    "print(person)"
   ]
  },
  {
   "cell_type": "code",
   "execution_count": 14,
   "metadata": {},
   "outputs": [
    {
     "name": "stdout",
     "output_type": "stream",
     "text": [
      "{'name': 'Zoha', 'grades': {'math': 0, 'science': 0}}\n",
      "{'name': 'Zoha', 'grades': {'math': 0, 'science': 0, 'history': 5}}\n"
     ]
    }
   ],
   "source": [
    "#Example 3: Adding a new element in nested dictionary\n",
    "student = {\n",
    "    \"name\":\"Zoha\",\n",
    "    \"grades\":{\n",
    "        \"math\":0,\n",
    "        \"science\":0\n",
    "    }\n",
    "}\n",
    "print(student)\n",
    "#Adding a new subject history with value 5\n",
    "student[\"grades\"][\"history\"]=5\n",
    "print(student)"
   ]
  },
  {
   "cell_type": "markdown",
   "metadata": {},
   "source": [
    "### __Deleting from dictionary__\n",
    "1. Using __del__ keyword\n",
    "- It is used to delete a key-value pair by specifying a key\n",
    "- __NOTE:__ deleting a key that does not exist will raise a __KeyError__"
   ]
  },
  {
   "cell_type": "code",
   "execution_count": null,
   "metadata": {},
   "outputs": [],
   "source": [
    "#Syntax:\n",
    "#del <dict_name>[key_to_delete]"
   ]
  },
  {
   "cell_type": "code",
   "execution_count": 15,
   "metadata": {},
   "outputs": [
    {
     "name": "stdout",
     "output_type": "stream",
     "text": [
      "{'name': 'Zoha', 'age': 21, 'city': 'karachi'}\n",
      "{'name': 'Zoha', 'city': 'karachi'}\n"
     ]
    }
   ],
   "source": [
    "#Example 1: Using del keyword\n",
    "person = {\"name\":\"Zoha\",\"age\":21,\"city\":\"karachi\"}\n",
    "print(person)\n",
    "\n",
    "#Deleting age key from dictionary\n",
    "del person[\"age\"]\n",
    "print(person)"
   ]
  },
  {
   "cell_type": "code",
   "execution_count": 16,
   "metadata": {},
   "outputs": [
    {
     "name": "stdout",
     "output_type": "stream",
     "text": [
      "Key does not exist\n"
     ]
    }
   ],
   "source": [
    "#Example 2: Handing KeyError\n",
    "person = {\"name\":\"Zoha\",\"age\":21,\"city\":\"karachi\"}\n",
    "try:\n",
    "    del person[\"job\"]\n",
    "except KeyError:\n",
    "    print(\"Key does not exist\")"
   ]
  },
  {
   "cell_type": "markdown",
   "metadata": {},
   "source": [
    "2. Using __pop()__ method\n",
    "    - It removes a key_value pair given as argument and returns value associated with key\n",
    "    - __NOTE__: If a key does not exist, it raises a __KeyError__ but a default_value can be provided to avoid it\n"
   ]
  },
  {
   "cell_type": "code",
   "execution_count": null,
   "metadata": {},
   "outputs": [],
   "source": [
    "#Syntax:\n",
    "#<dict_name>.pop(key,default_value)"
   ]
  },
  {
   "cell_type": "code",
   "execution_count": 17,
   "metadata": {},
   "outputs": [
    {
     "name": "stdout",
     "output_type": "stream",
     "text": [
      "{'name': 'Zoha', 'age': 21, 'city': 'karachi'}\n",
      "{'name': 'Zoha', 'age': 21}\n",
      "Value popped: karachi\n"
     ]
    }
   ],
   "source": [
    "#Example 1: Using pop method\n",
    "person = {\"name\":\"Zoha\",\"age\":21,\"city\":\"karachi\"}\n",
    "print(person)\n",
    "\n",
    "#Popping key \"city\" and retrieving its value\n",
    "city=person.pop(\"city\")\n",
    "print(person)\n",
    "print(\"Value popped:\",city)"
   ]
  },
  {
   "cell_type": "code",
   "execution_count": 18,
   "metadata": {},
   "outputs": [
    {
     "name": "stdout",
     "output_type": "stream",
     "text": [
      "{'name': 'Zoha', 'age': 21, 'city': 'karachi'}\n",
      "Not specified\n"
     ]
    }
   ],
   "source": [
    "#Example 2: Providing default value\n",
    "person = {\"name\":\"Zoha\",\"age\":21,\"city\":\"karachi\"}\n",
    "job = person.pop(\"job\",\"Not specified\")\n",
    "print(person)\n",
    "print(job)"
   ]
  },
  {
   "cell_type": "markdown",
   "metadata": {},
   "source": [
    "3. Using __popitem()__ method\n",
    "    - It is used to remove and return the last added key-value pair in dictionary as a tuple\n",
    "    - __NOTE:__ if the dictionary is empty, it raises a __KeyError__\n",
    "    "
   ]
  },
  {
   "cell_type": "code",
   "execution_count": null,
   "metadata": {},
   "outputs": [],
   "source": [
    "#Syntax\n",
    "#<dict_name>.popitem()"
   ]
  },
  {
   "cell_type": "code",
   "execution_count": null,
   "metadata": {},
   "outputs": [],
   "source": [
    "#Example 1: Using popitem()\n",
    "person = {\"name\":\"Zoha\",\"age\":21,\"city\":\"karachi\"}\n",
    "print(person)\n",
    "\n",
    "#Removing last added element\n",
    "last_item=person.popitem()\n",
    "print(person)\n",
    "print(last_item)"
   ]
  },
  {
   "cell_type": "code",
   "execution_count": null,
   "metadata": {},
   "outputs": [],
   "source": [
    "#Example 2: Error handling with popitem()\n",
    "person = {}\n",
    "try:\n",
    "    person.popitem()\n",
    "except KeyError:\n",
    "    print(\"Dictionary is empty\")\n"
   ]
  },
  {
   "cell_type": "markdown",
   "metadata": {},
   "source": [
    "4. Using __clear()__ method\n",
    "    - It is used to remove all key-value pairs in dictionary"
   ]
  },
  {
   "cell_type": "code",
   "execution_count": null,
   "metadata": {},
   "outputs": [],
   "source": [
    "#Syntax:\n",
    "#<dict_name>.clear"
   ]
  },
  {
   "cell_type": "code",
   "execution_count": 19,
   "metadata": {},
   "outputs": [
    {
     "name": "stdout",
     "output_type": "stream",
     "text": [
      "{'name': 'Zoha', 'age': 21, 'city': 'karachi'}\n",
      "{}\n"
     ]
    }
   ],
   "source": [
    "#Example 1: using clear()\n",
    "person = {\"name\":\"Zoha\",\"age\":21,\"city\":\"karachi\"}\n",
    "print(person)\n",
    "person.clear()\n",
    "print(person)"
   ]
  },
  {
   "cell_type": "markdown",
   "metadata": {},
   "source": [
    "### __Problems__\n",
    "1. Given two list l1 and l2, create a dictionary with each element of l1 as key and  each element of l2 as value\n",
    "    - __Sample Input:__ l1=[1,2,3] l2=[4,5,6]\n",
    "    - __Sample Output:__ {1:4,2:5,3:6}\n",
    "\n",
    "2. Given two dictionary d1 and d2, merge the both dictionary into one\n",
    "    - __Sample Input:__ d1={1:10,2:20,3:30} d2= {3:30,4:40,5:50}\n",
    "    - __Sample Output:__ {1:10,2:20,3:30,4:40,5:50}\n",
    "\n",
    "3. Check if a key already exists in a dictionary\n",
    "    - __Sample Input 1:__ d={1:10,2:20,3:30} k=1\n",
    "    - __Sample Output:__ True\n",
    "\n",
    "    - __Sample Input 2:__ d={1:10,2:20,3:30} k=10\n",
    "    - __Sample Output:__ False\n",
    "\n",
    "4. Create a dictionary with n elements where the key is 1 to n and the value of each key is the sqaure of the key\n",
    "    - __Sample Input:__ n=5\n",
    "    - __Sample Output:__ {1:1,2:4,3:9,4:16,5:25}\n",
    "\n",
    "5. Print all the elements in a dictionary\n",
    "\n",
    "6. Print the sum of all values in a dictionary\n",
    "    - __Sample Input:__ {1:10,2:20,3:30}\n",
    "    - __Sample Output:__ 60\n",
    "\n",
    "7. Find the key of maximum and minimum value in the dictionary\n",
    "    - __Sample Input:__ {1:10,2:20,3:30,4:40,5:50}\n",
    "    - __Sample Output:__ max=10, min=50\n",
    "\n",
    "8. Given a dictionary, create a list from dictionary which contains only distinct values from dictionary\n",
    "    - __Sample Input:__ {\"I\":\"S001\",\"II\": \"S002\",\"VI\": \"S001\",\"III\": \"S005\",\"VII\":\"S005\",\"V\":\"S009\",\"VIII\":\"S007\"}\n",
    "    - __Sample Output:__: ['S005', 'S002', 'S007', 'S001', 'S009']\n",
    "\n",
    "9. Find the occurences of a given value in dictionary:\n",
    "    - __Sample Input__: {'a':10,'b':20,'c':30,'d':10,'e':10} n = 10\n",
    "    - __Sample Output__: occurence = 3\n",
    "\n",
    "10. Check if all values in dictionary are same\n",
    "    - __Sample Input:__ {'Cierra Vega': 12, 'Alden Cantrell': 12, 'Kierra Gentry': 12, 'Pierre Cox': 12}\n",
    "    - __Sample Output:__ True\n",
    "    \n",
    "    - __Sample Input:__ {'Cierra Vega': 12, 'Alden Cantrell': 12, 'Kierra Gentry': 10, 'Pierre Cox': 12}\n",
    "    - __Sample Output::__ False"
   ]
  }
 ],
 "metadata": {
  "kernelspec": {
   "display_name": "Python 3",
   "language": "python",
   "name": "python3"
  },
  "language_info": {
   "codemirror_mode": {
    "name": "ipython",
    "version": 3
   },
   "file_extension": ".py",
   "mimetype": "text/x-python",
   "name": "python",
   "nbconvert_exporter": "python",
   "pygments_lexer": "ipython3",
   "version": "3.12.1"
  }
 },
 "nbformat": 4,
 "nbformat_minor": 2
}
