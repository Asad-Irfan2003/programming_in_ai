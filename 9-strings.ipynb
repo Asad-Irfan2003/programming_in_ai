{
 "cells": [
  {
   "cell_type": "markdown",
   "metadata": {},
   "source": [
    "# Strings in Python\n",
    "- It is a fundamental data type to represent text\n",
    "- It is a sequence of characters (Whitespaces, letters,numbers etc)\n",
    "- It is immutable data type\n",
    "- It is ordered\n",
    "\n",
    "### __Creating a string__\n",
    "- A string can be created by enclosing a sequence of characters in single quotes(__' '__),double quotes(__\" \"__) or triple quotes(__\"\"\" \"\"\"__)\n",
    "- __NOTE:__ Triple quotes are used for multi-line text"
   ]
  },
  {
   "cell_type": "code",
   "execution_count": null,
   "metadata": {},
   "outputs": [],
   "source": [
    "#Syntax\n",
    "#<string_name> = 'text'\n",
    "#<string_name> = \"text\"\n",
    "#<string_name>=\"\"\" text \"\"\""
   ]
  },
  {
   "cell_type": "code",
   "execution_count": 1,
   "metadata": {},
   "outputs": [
    {
     "name": "stdout",
     "output_type": "stream",
     "text": [
      "This is a single quote string\n",
      "This is a double quote string\n",
      "This is a triple quote string\n"
     ]
    }
   ],
   "source": [
    "# Example 1: Creating strings\n",
    "string1='This is a single quote string'\n",
    "print(string1)\n",
    "string2=\"This is a double quote string\"\n",
    "print(string2)\n",
    "string3=\"\"\"This is a triple quote string\"\"\"\n",
    "print(string3)\n",
    "\n",
    "#Empty string\n",
    "string4=''\n",
    "print(string4)\n"
   ]
  },
  {
   "cell_type": "code",
   "execution_count": 2,
   "metadata": {},
   "outputs": [
    {
     "name": "stdout",
     "output_type": "stream",
     "text": [
      "Line 1\n",
      "Line 2\n",
      "Line 3\n"
     ]
    }
   ],
   "source": [
    "#Example 2: Creating multiline string using triple quotes\n",
    "string3=\"\"\"Line 1\n",
    "Line 2\n",
    "Line 3\"\"\"\n",
    "print(string3)"
   ]
  },
  {
   "cell_type": "markdown",
   "metadata": {},
   "source": [
    "### __Accessing strings in Python__\n",
    "- Indivisual characters of a string can be accessed by using index __[ ]__ operator\n",
    "- __NOTE:__ Aceesing an index which is out of bounds will result in __IndexError__\n",
    "- __NOTE:__ Assigning a new value to any index of string will result in a __TypeError__"
   ]
  },
  {
   "cell_type": "code",
   "execution_count": null,
   "metadata": {},
   "outputs": [],
   "source": [
    "#Syntax:\n",
    "#<string_name>[index]"
   ]
  },
  {
   "cell_type": "code",
   "execution_count": 3,
   "metadata": {},
   "outputs": [
    {
     "name": "stdout",
     "output_type": "stream",
     "text": [
      "H\n",
      "e\n",
      "d\n",
      "a\n"
     ]
    }
   ],
   "source": [
    "#Example 1: Accesing a value of string\n",
    "s=\"Hello my name is Asad\"\n",
    "\n",
    "#Accessing first character\n",
    "first_character=s[0]\n",
    "print(first_character)\n",
    "\n",
    "#Accessing second character\n",
    "second_character=s[1]\n",
    "print(second_character)\n",
    "#Accessing last character\n",
    "last_character=s[-1]\n",
    "print(last_character)\n",
    "\n",
    "#Accessing second last character\n",
    "second_last_character=s[-2]\n",
    "print(second_last_character)"
   ]
  },
  {
   "cell_type": "code",
   "execution_count": 6,
   "metadata": {},
   "outputs": [
    {
     "name": "stdout",
     "output_type": "stream",
     "text": [
      "Accessing string is not allowed\n"
     ]
    }
   ],
   "source": [
    "#Example 2: Modifying a value in Strings\n",
    "try:\n",
    "    string =\"Hello\"\n",
    "    string[1]=\"u\"\n",
    "except TypeError:\n",
    "    print(\"Accessing string is not allowed\")"
   ]
  },
  {
   "cell_type": "markdown",
   "metadata": {},
   "source": [
    "### __Slicing a string in Python__\n",
    "- Slicing a string means to create a substring from an existing string\n",
    "- It is done by __[ ]__ operator"
   ]
  },
  {
   "cell_type": "code",
   "execution_count": null,
   "metadata": {},
   "outputs": [],
   "source": [
    "#Syntax:\n",
    "#<string_name>[start:stop:step]\n",
    "#start is the starting index of slice (Default value is 0 if not written)\n",
    "#stop is the (stopping index+1) of slice( Default value is size of string)\n",
    "#step is the interval between each character in slice (Default value is 1)"
   ]
  },
  {
   "cell_type": "code",
   "execution_count": 7,
   "metadata": {},
   "outputs": [
    {
     "name": "stdout",
     "output_type": "stream",
     "text": [
      "Hello\n"
     ]
    }
   ],
   "source": [
    "#Example 1: Basic Slicing\n",
    "s=\"Hello World\"\n",
    "#Slicing from 0 to 5(exclusive)\n",
    "substr1=string[0:5]\n",
    "print(substr1)"
   ]
  },
  {
   "cell_type": "code",
   "execution_count": 8,
   "metadata": {},
   "outputs": [
    {
     "name": "stdout",
     "output_type": "stream",
     "text": [
      "Python\n",
      "Programming\n",
      "Python Programming\n"
     ]
    }
   ],
   "source": [
    "#Example 2: Not including starting or stop values\n",
    "s = \"Python Programming\"\n",
    "\n",
    "#Not including start value\n",
    "#Getting a substrin from start to 6(exclusive)\n",
    "substr1=s[:6]\n",
    "print(substr1)\n",
    "\n",
    "#Not including stop values\n",
    "#Getting a substring from 7 to end(inclusive)\n",
    "substr2=s[7:]\n",
    "print(substr2)\n",
    "\n",
    "#Not including both\n",
    "#Getting a  string from start to end\n",
    "substr3=s[:]\n",
    "print(substr3)"
   ]
  },
  {
   "cell_type": "code",
   "execution_count": 9,
   "metadata": {},
   "outputs": [
    {
     "name": "stdout",
     "output_type": "stream",
     "text": [
      "ing\n",
      "Programmin\n"
     ]
    }
   ],
   "source": [
    "#Example 4: Using negative indices\n",
    "s=\"Python Programming\"\n",
    "\n",
    "#Slicing the last three characters\n",
    "substr1=s[-3:]\n",
    "print(substr1)\n",
    "\n",
    "#Slicing from -11 to -1(Exclusive)\n",
    "substr2=s[-11:-1]\n",
    "print(substr2)"
   ]
  },
  {
   "cell_type": "code",
   "execution_count": 4,
   "metadata": {},
   "outputs": [
    {
     "name": "stdout",
     "output_type": "stream",
     "text": [
      "Pto rgamn\n",
      "Ph o\n",
      "gnimmargorP nohtyP\n",
      "P\n"
     ]
    }
   ],
   "source": [
    "#Example 5:  Using step\n",
    "s = \"Python Programming\"\n",
    "\n",
    "#Slicing entire string with step 2\n",
    "slice1 = s[::2]\n",
    "print(slice1)\n",
    "#Slicing string from 0 to 12(Exclusive) with step 3\n",
    "slice2=s[0:12:3]\n",
    "print(slice2)\n",
    "\n",
    "#Slicing entire step in reverse (Using negative step)\n",
    "slice3=s[::-1]\n",
    "print(slice3)\n",
    "slice4=s[::-2]\n",
    "print(slice4)"
   ]
  },
  {
   "cell_type": "markdown",
   "metadata": {},
   "source": [
    "### __Updating a character in string__\n",
    "- String is an immutable object so we cannot directly update a string\n",
    "- However, we can indriectly update a string by converting it into a list of characters, changing the list, then changing it back to a string"
   ]
  },
  {
   "cell_type": "code",
   "execution_count": 14,
   "metadata": {},
   "outputs": [
    {
     "name": "stdout",
     "output_type": "stream",
     "text": [
      "Hello World\n",
      "['H', 'e', 'l', 'l', 'o', ' ', 'W', 'o', 'r', 'l', 'd']\n",
      "['F', 'e', 'l', 'l', 'o', ' ', 'W', 'o', 'r', 'l', 'd']\n",
      "['F', 'e', 'l', 'l', 'o', ' ', 'W', 'o', 'r', 'l', 'e']\n",
      "Fello Worle\n"
     ]
    }
   ],
   "source": [
    "s= \"Hello World\"\n",
    "print(s)\n",
    "#Steps to update a list\n",
    "#1. Create an empty list\n",
    "l = []\n",
    "#2. Extend the list with the string you want to modify\n",
    "l.extend(s)\n",
    "print(l)\n",
    "\n",
    "#3. Modify the characters you want to change\n",
    "l[0]=\"F\"\n",
    "print(l)\n",
    "l[-1]=\"e\"\n",
    "print(l)\n",
    "#4. Convert the list back to string using ''.join(list_name)\n",
    "s=''.join(l)\n",
    "print(s)"
   ]
  },
  {
   "cell_type": "markdown",
   "metadata": {},
   "source": [
    "### __Updating the entire string__\n",
    "- To update the entire string, we assign a new string to a current string"
   ]
  },
  {
   "cell_type": "code",
   "execution_count": 16,
   "metadata": {},
   "outputs": [
    {
     "name": "stdout",
     "output_type": "stream",
     "text": [
      "Hello, Im Asad\n",
      "Hello, Im Zoha\n"
     ]
    }
   ],
   "source": [
    "#Example 1: Updating a string\n",
    "string1= \"Hello, Im Asad\"\n",
    "print(string1)\n",
    "# Updating string with new string\n",
    "string1=\"Hello, Im Zoha\"\n",
    "print(string1)"
   ]
  },
  {
   "cell_type": "markdown",
   "metadata": {},
   "source": [
    "### __Deleting a character in String__\n",
    "- To delete any character, we can slice the character and assign the newly created string to original variable"
   ]
  },
  {
   "cell_type": "code",
   "execution_count": 19,
   "metadata": {},
   "outputs": [
    {
     "name": "stdout",
     "output_type": "stream",
     "text": [
      "Hello, im Asad\n",
      "ello, im Asad\n",
      "ello, im Asa\n",
      "ell, im Asa\n"
     ]
    }
   ],
   "source": [
    "s = \"Hello, im Asad\"\n",
    "print(s)\n",
    "#Deleting first character\n",
    "s=s[1:]\n",
    "print(s)\n",
    "\n",
    "#Deleting last character\n",
    "s=s[:-1]\n",
    "print(s)\n",
    "\n",
    "#Deleting a 3rd character in string\n",
    "s = s[:3] +s[4:]\n",
    "print(s)"
   ]
  },
  {
   "cell_type": "markdown",
   "metadata": {},
   "source": [
    "### __Deleting entire string__\n",
    "- To delete an entire string, we use the __del__ keyword\n",
    "- __NOTE:__ Trying to print a deleted string with result in __NameError__ because the string does not point to anything"
   ]
  },
  {
   "cell_type": "code",
   "execution_count": null,
   "metadata": {},
   "outputs": [],
   "source": [
    "#Syntax:\n",
    "#del <string_name>"
   ]
  },
  {
   "cell_type": "code",
   "execution_count": 21,
   "metadata": {},
   "outputs": [
    {
     "name": "stdout",
     "output_type": "stream",
     "text": [
      "Hello World\n"
     ]
    },
    {
     "ename": "NameError",
     "evalue": "name 's' is not defined",
     "output_type": "error",
     "traceback": [
      "\u001b[1;31m---------------------------------------------------------------------------\u001b[0m",
      "\u001b[1;31mNameError\u001b[0m                                 Traceback (most recent call last)",
      "Cell \u001b[1;32mIn[21], line 5\u001b[0m\n\u001b[0;32m      3\u001b[0m \u001b[38;5;28mprint\u001b[39m(s)\n\u001b[0;32m      4\u001b[0m \u001b[38;5;28;01mdel\u001b[39;00m s\n\u001b[1;32m----> 5\u001b[0m \u001b[38;5;28mprint\u001b[39m(\u001b[43ms\u001b[49m)\n",
      "\u001b[1;31mNameError\u001b[0m: name 's' is not defined"
     ]
    }
   ],
   "source": [
    "#Example:\n",
    "s = \"Hello World\"\n",
    "print(s)\n",
    "del s\n",
    "print(s) #This will return into error because s is not pointing to anything\n"
   ]
  },
  {
   "cell_type": "markdown",
   "metadata": {},
   "source": [
    "### __Problems__\n",
    "1. Given a string, Create a string made out of first, middle and last character\n",
    "    - __Sample Input:__ \"AsadIrfan\"\n",
    "    - __Sample Output:__ \"AIn\"\n",
    "\n",
    "2. Given a string consisiting of alphabets and digits, remove every digit in the string\n",
    "    - __Sample Input:__ pa33w0rd123\n",
    "    - __Sample Output:__ pawrd\n",
    "\n",
    "3. Given two strings s1 and s2, append s2 in the middle of s1\n",
    "    - __Sample Input:__ s1 = \"America\" s2=\"Japan\"\n",
    "    - __Sample Output:__ \"AmerJapanica\"\n",
    "\n",
    "4. Given a string, Count all the occurences of uppercase alphabets, lowercase alphabets, digits and special characters in a string\n",
    "    - __Sample Input:__ str1 = \"P@#yn26at^&i5ve\"\n",
    "    - __Sample Output:__ uppercase = 1, lowercase=7, digits=3, symbols = 4\n",
    "\n",
    "5. Given two strings s1 and s2, check whether they are balanced (s1 contains some characters present in s2)\n",
    "    - __Sample Input 1:__ s1= \"sd\" s2=\"Asad\"\n",
    "    - __Sample Output:__ True\n",
    "\n",
    "    - __Sample Input 2:__ s1=\"sdf\" s2=\"Asad\"\n",
    "    - __Sample Output:__ False\n",
    "\n",
    "6. Given a string s1, Find the first occurence of string s1 in s2\n",
    "    - __Sample Input:__ s1=\"Emma\" , s2= \"Emma is a data scientist who knows Python. Emma works at google.\"\n",
    "    - __Sample Output:__ 0\n",
    "\n",
    "7. Given a string, reverse the string\n",
    "    - __Sample Input:__ \"AsadIrfan\"\n",
    "    - __Sample Output:__\"nafrIdasA\"\n",
    "\n",
    "8. Given a string s1, find all occurences of string s1 in s2 (where s2 is a string)\n",
    "    - __Sample Input:__ s1=\"abc\" s2=\"abcdefgabc\"\n",
    "    - __Sample Output:__ 2\n",
    "\n",
    "9. Given a string of lowercase characters, count occurence of each character using a dictionary\n",
    "    - __Sample Input:__ s1=\"asadirfan\"\n",
    "    - __Sample Output:__ {'a':3,'s':1, 'd':1, 'i':1, 'r':1, 'f':1, 'n':1}\n",
    "\n",
    "10. Write a Python program to add 'ing' at the end of a given string (length should be at least 3). If the given string already ends with 'ing', add 'ly' instead. If the string length of the given string is less than 3, leave it unchanged.\n",
    "    - __Sample Input 1:__ 'abc'\n",
    "    - __Sample Output 1:__ 'abcing'\n",
    "    - __Sample Input 1 :__ 'string'\n",
    "    - __Sample Output 1:__ 'stringly'\n"
   ]
  }
 ],
 "metadata": {
  "kernelspec": {
   "display_name": "Python 3",
   "language": "python",
   "name": "python3"
  },
  "language_info": {
   "codemirror_mode": {
    "name": "ipython",
    "version": 3
   },
   "file_extension": ".py",
   "mimetype": "text/x-python",
   "name": "python",
   "nbconvert_exporter": "python",
   "pygments_lexer": "ipython3",
   "version": "3.12.1"
  }
 },
 "nbformat": 4,
 "nbformat_minor": 2
}
